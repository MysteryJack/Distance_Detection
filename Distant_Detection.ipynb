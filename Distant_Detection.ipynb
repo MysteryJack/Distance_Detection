{
  "nbformat": 4,
  "nbformat_minor": 0,
  "metadata": {
    "colab": {
      "name": "Distant_Detection",
      "provenance": [],
      "collapsed_sections": [],
      "toc_visible": true,
      "mount_file_id": "1C7hAKj9S4mPEjnkoHCmcg3dFx2Y0SWRG",
      "authorship_tag": "ABX9TyP80YEknza8ApYJFwNqxj5d",
      "include_colab_link": true
    },
    "kernelspec": {
      "display_name": "Python 3",
      "name": "python3"
    },
    "language_info": {
      "name": "python"
    },
    "accelerator": "GPU"
  },
  "cells": [
    {
      "cell_type": "markdown",
      "metadata": {
        "id": "view-in-github",
        "colab_type": "text"
      },
      "source": [
        "<a href=\"https://colab.research.google.com/github/MysteryJack/Distance_Detection/blob/main/Distant_Detection.ipynb\" target=\"_parent\"><img src=\"https://colab.research.google.com/assets/colab-badge.svg\" alt=\"Open In Colab\"/></a>"
      ]
    },
    {
      "cell_type": "markdown",
      "metadata": {
        "id": "_w5bLGbiWTfh"
      },
      "source": [
        "Install all neccessary module"
      ]
    },
    {
      "cell_type": "code",
      "metadata": {
        "id": "QPWWED9_aqrS"
      },
      "source": [
        "!pip install numpy\n",
        "!pip install tensorflow\n",
        "!pip install opencv-python\n",
        "!pip install pandas"
      ],
      "execution_count": null,
      "outputs": []
    },
    {
      "cell_type": "markdown",
      "metadata": {
        "id": "gdXs_hWqWY4u"
      },
      "source": [
        "Import module"
      ]
    },
    {
      "cell_type": "code",
      "metadata": {
        "id": "UVeop2oMaCc0"
      },
      "source": [
        "import numpy as np\n",
        "import tensorflow as tf\n",
        "import cv2\n",
        "import time\n",
        "import pandas as pd"
      ],
      "execution_count": null,
      "outputs": []
    },
    {
      "cell_type": "markdown",
      "metadata": {
        "id": "RhSioc2aVRt3"
      },
      "source": [
        "Modify focal length and average height here"
      ]
    },
    {
      "cell_type": "code",
      "metadata": {
        "id": "VVJUL6dTUBSH"
      },
      "source": [
        "camera_focal = 0.006 #metre\n",
        "average_height = 1.7 #metre"
      ],
      "execution_count": null,
      "outputs": []
    },
    {
      "cell_type": "markdown",
      "metadata": {
        "id": "hciB8axeVZyo"
      },
      "source": [
        "Build a detector"
      ]
    },
    {
      "cell_type": "code",
      "metadata": {
        "id": "H49LmF9nUDUG"
      },
      "source": [
        "class DetectorAPI:\n",
        "    def __init__(self, path_to_ckpt):\n",
        "        self.path_to_ckpt = path_to_ckpt\n",
        "\n",
        "        self.detection_graph = tf.Graph()\n",
        "        with self.detection_graph.as_default():\n",
        "            od_graph_def = tf.compat.v1.GraphDef()\n",
        "            with tf.compat.v2.io.gfile.GFile(self.path_to_ckpt, 'rb') as fid:\n",
        "                serialized_graph = fid.read()\n",
        "                od_graph_def.ParseFromString(serialized_graph)\n",
        "                tf.import_graph_def(od_graph_def, name='')\n",
        "\n",
        "        self.default_graph = self.detection_graph.as_default()\n",
        "        self.sess = tf.compat.v1.Session(graph=self.detection_graph)\n",
        "        self.image_tensor = self.detection_graph.get_tensor_by_name('image_tensor:0')\n",
        "        self.detection_boxes = self.detection_graph.get_tensor_by_name('detection_boxes:0')\n",
        "        self.detection_scores = self.detection_graph.get_tensor_by_name('detection_scores:0')\n",
        "        self.detection_classes = self.detection_graph.get_tensor_by_name('detection_classes:0')\n",
        "        self.num_detections = self.detection_graph.get_tensor_by_name('num_detections:0')\n",
        "\n",
        "    def processFrame(self, image):\n",
        "        # Expand dimensions since the trained_model expects images to have shape: [1, None, None, 3]\n",
        "        image_np_expanded = np.expand_dims(image, axis=0)\n",
        "        #Detection\n",
        "        start_time = time.time()\n",
        "        (boxes, scores, classes, num) = self.sess.run(\n",
        "            [self.detection_boxes, self.detection_scores, self.detection_classes, self.num_detections],\n",
        "            feed_dict={self.image_tensor: image_np_expanded})\n",
        "        end_time = time.time()\n",
        "\n",
        "        print(\"Elapsed Time:\", end_time-start_time)\n",
        "        im_height, im_width,_ = image.shape\n",
        "        boxes_list = [None for i in range(boxes.shape[1])]\n",
        "        for i in range(boxes.shape[1]):\n",
        "            boxes_list[i] = (int(boxes[0,i,0] * im_height),\n",
        "                        int(boxes[0,i,1]*im_width),\n",
        "                        int(boxes[0,i,2] * im_height),\n",
        "                        int(boxes[0,i,3]*im_width))\n",
        "\n",
        "        return boxes_list, scores[0].tolist(), [int(x) for x in classes[0].tolist()], int(num[0])\n",
        "\n",
        "    def close(self):\n",
        "        self.sess.close()\n",
        "        self.default_graph.close()"
      ],
      "execution_count": null,
      "outputs": []
    },
    {
      "cell_type": "markdown",
      "metadata": {
        "id": "3meIJJV6WfAO"
      },
      "source": [
        "Set path and valuables"
      ]
    },
    {
      "cell_type": "code",
      "metadata": {
        "id": "ffyKfie5U0_O"
      },
      "source": [
        "model_path = \"/path/faster_rcnn_inception_v2_coco_2018_01_28/frozen_inference_graph.pb\"\n",
        "cap = cv2.VideoCapture(\"/path/input/video.avi\")\n",
        "odapi = DetectorAPI(path_to_ckpt=model_path)\n",
        "threshold = 0.8\n",
        "line_op = 0.5\n",
        "img_array = []\n",
        "a_b = []\n",
        "Distant_output = pd.DataFrame()"
      ],
      "execution_count": null,
      "outputs": []
    },
    {
      "cell_type": "markdown",
      "metadata": {
        "id": "dqcU5hTcUycP"
      },
      "source": [
        "Process for each frame"
      ]
    },
    {
      "cell_type": "code",
      "metadata": {
        "id": "Vt7MPiQ4Uweg"
      },
      "source": [
        "start_time = time.time()\n",
        "while True:\n",
        "    r, img = cap.read()\n",
        "    if r:  \n",
        "      size = (1280,720) \n",
        "      try:\n",
        "        img = cv2.resize(img, size)\n",
        "      except:\n",
        "        print(\"Error Resizing\")\n",
        "      line_layer = np.zeros(img.shape, np.uint8)\n",
        "      box_layer = np.zeros(img.shape, np.uint8)\n",
        "      boxes_list, scores, classes_list, num = odapi.processFrame(img)\n",
        "      boxes = pd.Series(boxes_list)\n",
        "      classes = pd.Series(classes_list)\n",
        "      center = []\n",
        "      distant = []\n",
        "      distant_to_cam = []\n",
        "      line_name = []\n",
        "      \n",
        "\n",
        "      # Visualization of the results of a detection.\n",
        "      for i in range(len(boxes)):\n",
        "          # Class 1 represents human\n",
        "          if classes[i] == 1 and scores[i] > threshold:\n",
        "            box = boxes[i]\n",
        "            b_center = (int(box[3]/2+box[1]/2), int(box[2]/2+box[0]/2))\n",
        "            center.append(b_center)\n",
        "            cv2.rectangle(box_layer,(box[1],box[0]),(box[3],box[2]),(255,0,0),2)\n",
        "            cv2.putText(box_layer, 'Person ' + str(len(center)), (box[1],box[0]), cv2.FONT_HERSHEY_SIMPLEX, 0.9, (255,0,0), 2)\n",
        "            distant_to_cam.append((average_height*camera_focal)/(box[2]-box[0]))\n",
        "\n",
        "      nbox = len(center)\n",
        "    \n",
        "      for n in range(nbox) :\n",
        "          for m in [i + (n + 1) for i in range((nbox-1)-n)]:\n",
        "              cv2.line(line_layer, center[n], center[m], (255,255,255),2)\n",
        "              ratio = ratio = average_height/(boxes[classes == 1].to_list()[n][2]-boxes[classes == 1].to_list()[n][0])\n",
        "              distant.append((((center[n][0]-center[m][0])*ratio)**2)+(((center[n][1]-center[m][1])*ratio)**2)+((distant_to_cam[n]-distant_to_cam[m])**2))\n",
        "              line_name.append(str(n) + \" to \" + str(m))\n",
        "              \n",
        "\n",
        "        \n",
        "      o1_layer = cv2.addWeighted(img, 1.0, line_layer, line_op, 0)\n",
        "      o2_layer = cv2.addWeighted(o1_layer, 1.0, box_layer, 1.0, 0)\n",
        "      donp = pd.DataFrame([distant], columns=line_name)\n",
        "      Distant_output = pd.concat([Distant_output,donp],sort=False)\n",
        "\n",
        "\n",
        "      img_array.append(o2_layer)\n",
        "      \n",
        "    else:\n",
        "      end_time = time.time()\n",
        "      print(\"Total Elapsed Time:\", end_time-start_time)\n",
        "      break"
      ],
      "execution_count": null,
      "outputs": []
    }
  ]
}